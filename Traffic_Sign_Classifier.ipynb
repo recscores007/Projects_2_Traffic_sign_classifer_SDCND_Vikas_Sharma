{
 "cells": [
  {
   "cell_type": "markdown",
   "metadata": {},
   "source": [
    "# Self-Driving Car Engineer Nanodegree\n",
    "\n",
    "## Deep Learning\n",
    "\n",
    "## Project: Build a Traffic Sign Recognition Classifier\n",
    "\n",
    "In this notebook, a template is provided for you to implement your functionality in stages, which is required to successfully complete this project. If additional code is required that cannot be included in the notebook, be sure that the Python code is successfully imported and included in your submission if necessary. \n",
    "\n",
    "> **Note**: Once you have completed all of the code implementations, you need to finalize your work by exporting the iPython Notebook as an HTML document. Before exporting the notebook to html, all of the code cells need to have been run so that reviewers can see the final implementation and output. You can then export the notebook by using the menu above and navigating to  \\n\",\n",
    "    \"**File -> Download as -> HTML (.html)**. Include the finished document along with this notebook as your submission. \n",
    "\n",
    "In addition to implementing code, there is a writeup to complete. The writeup should be completed in a separate file, which can be either a markdown file or a pdf document. There is a [write up template](https://github.com/udacity/CarND-Traffic-Sign-Classifier-Project/blob/master/writeup_template.md) that can be used to guide the writing process. Completing the code template and writeup template will cover all of the [rubric points](https://review.udacity.com/#!/rubrics/481/view) for this project.\n",
    "\n",
    "The [rubric](https://review.udacity.com/#!/rubrics/481/view) contains \"Stand Out Suggestions\" for enhancing the project beyond the minimum requirements. The stand out suggestions are optional. If you decide to pursue the \"stand out suggestions\", you can include the code in this Ipython notebook and also discuss the results in the writeup file.\n",
    "\n",
    "\n",
    ">**Note:** Code and Markdown cells can be executed using the **Shift + Enter** keyboard shortcut. In addition, Markdown cells can be edited by typically double-clicking the cell to enter edit mode."
   ]
  },
  {
   "cell_type": "markdown",
   "metadata": {},
   "source": [
    "---\n",
    "## Step 0: Load The Data"
   ]
  },
  {
   "cell_type": "code",
   "execution_count": 6,
   "metadata": {
    "scrolled": false
   },
   "outputs": [
    {
     "name": "stdout",
     "output_type": "stream",
     "text": [
      "[name: \"/device:CPU:0\"\n",
      "device_type: \"CPU\"\n",
      "memory_limit: 268435456\n",
      "locality {\n",
      "}\n",
      "incarnation: 1045853432894631378\n",
      ", name: \"/device:GPU:0\"\n",
      "device_type: \"GPU\"\n",
      "memory_limit: 10071670784\n",
      "locality {\n",
      "  bus_id: 1\n",
      "  links {\n",
      "  }\n",
      "}\n",
      "incarnation: 7344224906237439640\n",
      "physical_device_desc: \"device: 0, name: TITAN Xp COLLECTORS EDITION, pci bus id: 0000:06:00.0, compute capability: 6.1\"\n",
      "]\n"
     ]
    }
   ],
   "source": [
    "# Load pickled data\n",
    "import pickle\n",
    "import numpy as np\n",
    "# TODO: Fill this in based on where you saved the training and testing data\n",
    "from tensorflow.python.client import device_lib\n",
    "\n",
    "print(device_lib.list_local_devices())\n",
    "\n",
    "training_file = 'train.p'\n",
    "validation_file='valid.p'\n",
    "testing_file = 'test.p'\n",
    "\n",
    "with open(training_file, mode='rb') as f:\n",
    "    train = pickle.load(f)\n",
    "with open(validation_file, mode='rb') as f:\n",
    "    valid = pickle.load(f)\n",
    "with open(testing_file, mode='rb') as f:\n",
    "    test = pickle.load(f)\n",
    "    \n",
    "X_train, y_train = train['features'], train['labels']\n",
    "X_valid, y_valid = valid['features'], valid['labels']\n",
    "X_test, y_test = test['features'], test['labels']"
   ]
  },
  {
   "cell_type": "markdown",
   "metadata": {},
   "source": [
    "---\n",
    "\n",
    "## Step 1: Dataset Summary & Exploration\n",
    "\n",
    "The pickled data is a dictionary with 4 key/value pairs:\n",
    "\n",
    "- `'features'` is a 4D array containing raw pixel data of the traffic sign images, (num examples, width, height, channels).\n",
    "- `'labels'` is a 1D array containing the label/class id of the traffic sign. The file `signnames.csv` contains id -> name mappings for each id.\n",
    "- `'sizes'` is a list containing tuples, (width, height) representing the original width and height the image.\n",
    "- `'coords'` is a list containing tuples, (x1, y1, x2, y2) representing coordinates of a bounding box around the sign in the image. **THESE COORDINATES ASSUME THE ORIGINAL IMAGE. THE PICKLED DATA CONTAINS RESIZED VERSIONS (32 by 32) OF THESE IMAGES**\n",
    "\n",
    "Complete the basic data summary below. Use python, numpy and/or pandas methods to calculate the data summary rather than hard coding the results. For example, the [pandas shape method](http://pandas.pydata.org/pandas-docs/stable/generated/pandas.DataFrame.shape.html) might be useful for calculating some of the summary results. "
   ]
  },
  {
   "cell_type": "markdown",
   "metadata": {},
   "source": [
    "### Provide a Basic Summary of the Data Set Using Python, Numpy and/or Pandas"
   ]
  },
  {
   "cell_type": "code",
   "execution_count": 7,
   "metadata": {
    "scrolled": false
   },
   "outputs": [
    {
     "name": "stdout",
     "output_type": "stream",
     "text": [
      "Number of training examples = 34799\n",
      "Number of testing examples = 12630\n",
      "Image data shape = (32, 32, 3)\n",
      "Number of classes = 43\n"
     ]
    }
   ],
   "source": [
    "### Replace each question mark with the appropriate value. \n",
    "### Use python, pandas or numpy methods rather than hard coding the results\n",
    "\n",
    "# TODO: Number of training examples\n",
    "n_train = len(X_train)\n",
    "\n",
    "# TODO: Number of validation examples\n",
    "n_validation = len(X_valid)\n",
    "\n",
    "# TODO: Number of testing examples.\n",
    "n_test = len(X_test)\n",
    "\n",
    "# TODO: What's the shape of an traffic sign image?\n",
    "image_shape = np.shape(X_train[0])\n",
    "\n",
    "# TODO: How many unique classes/labels there are in the dataset.\n",
    "n_classes = len(np.unique(y_train))\n",
    "\n",
    "print(\"Number of training examples =\", n_train)\n",
    "print(\"Number of testing examples =\", n_test)\n",
    "print(\"Image data shape =\", image_shape)\n",
    "print(\"Number of classes =\", n_classes)"
   ]
  },
  {
   "cell_type": "markdown",
   "metadata": {},
   "source": [
    "### Include an exploratory visualization of the dataset"
   ]
  },
  {
   "cell_type": "markdown",
   "metadata": {},
   "source": [
    "Visualize the German Traffic Signs Dataset using the pickled file(s). This is open ended, suggestions include: plotting traffic sign images, plotting the count of each sign, etc. \n",
    "\n",
    "The [Matplotlib](http://matplotlib.org/) [examples](http://matplotlib.org/examples/index.html) and [gallery](http://matplotlib.org/gallery.html) pages are a great resource for doing visualizations in Python.\n",
    "\n",
    "**NOTE:** It's recommended you start with something simple first. If you wish to do more, come back to it after you've completed the rest of the sections. It can be interesting to look at the distribution of classes in the training, validation and test set. Is the distribution the same? Are there more examples of some classes than others?"
   ]
  },
  {
   "cell_type": "code",
   "execution_count": 8,
   "metadata": {
    "scrolled": false
   },
   "outputs": [
    {
     "data": {
      "image/png": "[encoded data removed]",
      "text/plain": [
       "<Figure size 432x288 with 1 Axes>"
      ]
     },
     "metadata": {},
     "output_type": "display_data"
    }
   ],
   "source": [
    "#### Data exploration visualization code goes here.\n",
    "#1 Number of images per class\n",
    "\n",
    "import random\n",
    "import numpy as np\n",
    "import matplotlib.pyplot as plt\n",
    "%matplotlib inline\n",
    "\n",
    "import numpy as np\n",
    "import matplotlib.pyplot as plt\n",
    "\n",
    "np.random.seed(0)\n",
    "\n",
    "n_bins = n_classes\n",
    "\n",
    "hist, bin_edges=np.histogram(y_train,bins=43)\n",
    "\n",
    "plt.bar(bin_edges[:-1], hist, width = .8)\n",
    "plt.xlim(min(bin_edges), max(bin_edges))\n",
    "plt.title(\"# of Images per class\")\n",
    "plt.show() \n"
   ]
  },
  {
   "cell_type": "code",
   "execution_count": 9,
   "metadata": {
    "scrolled": false
   },
   "outputs": [
    {
     "data": {
      "image/png": "[encoded data removed]",
      "text/plain": [
       "<Figure size 432x288 with 8 Axes>"
      ]
     },
     "metadata": {},
     "output_type": "display_data"
    }
   ],
   "source": [
    "#2 Display images with respective labels\n",
    "\n",
    "gridx=2\n",
    "gridy=4\n",
    "f, axarr = plt.subplots(gridx,gridy)\n",
    "\n",
    "f.suptitle(\"Training images with labels\", fontsize=12)\n",
    "for subx in range(gridx):\n",
    "    x=0\n",
    "    for suby in range(gridy):\n",
    "        if x<gridy:\n",
    "            index = random.randint(0, len(X_train))\n",
    "            image = X_train[index].squeeze()\n",
    "            #axarr.suptitle('hi')\n",
    "           \n",
    "            axarr[subx,suby].set_title(y_train[index])\n",
    "            axarr[subx,suby].imshow(image)\n",
    "          \n",
    "            x=x+1\n",
    "f.tight_layout()"
   ]
  },
  {
   "cell_type": "code",
   "execution_count": 10,
   "metadata": {
    "scrolled": false
   },
   "outputs": [
    {
     "name": "stdout",
     "output_type": "stream",
     "text": [
      "RGB shape: (34799, 32, 32, 3)\n",
      "Grayscale shape: (34799, 32, 32, 1)\n",
      "RGB shape: (4410, 32, 32, 3)\n",
      "Grayscale shape: (4410, 32, 32, 1)\n",
      "shape in/out: (32, 32, 3) (32, 32, 1)\n"
     ]
    },
    {
     "data": {
      "image/png": "[encoded data removed]",
      "text/plain": [
       "<Figure size 720x216 with 2 Axes>"
      ]
     },
     "metadata": {},
     "output_type": "display_data"
    }
   ],
   "source": [
    "# Convert to grayscale\n",
    "X_train_rgb = X_train\n",
    "X_valid_rgb = X_valid\n",
    "X_train_gry = np.sum(X_train/3, axis=3, keepdims=True)\n",
    "\n",
    "\n",
    "X_valid_rgb = X_valid\n",
    "X_valid_gry = np.sum(X_valid_rgb/3, axis=3, keepdims=True)\n",
    "\n",
    "X_test_rgb = X_test\n",
    "X_test_gry = np.sum(X_test/3, axis=3, keepdims=True)\n",
    "\n",
    "print('RGB shape:', X_train_rgb.shape)\n",
    "print('Grayscale shape:', X_train_gry.shape)\n",
    "\n",
    "\n",
    "print('RGB shape:', X_valid_rgb.shape)\n",
    "print('Grayscale shape:', X_valid_gry.shape)\n",
    "\n",
    "test_img = X_train_rgb[22222]\n",
    "test_dst = X_train_gry[22222]\n",
    "\n",
    "fig, axs = plt.subplots(1,2, figsize=(10, 3))\n",
    "\n",
    "axs[0].axis('off')\n",
    "axs[0].imshow(test_img.squeeze())\n",
    "axs[0].set_title('original')\n",
    "\n",
    "axs[1].axis('off')\n",
    "axs[1].imshow(test_dst.squeeze(), cmap='gray')\n",
    "axs[1].set_title('grayscaled')\n",
    "\n",
    "print('shape in/out:', test_img.shape, test_dst.shape)\n",
    "\n",
    "X_train = X_train_gry\n",
    "X_valid= X_valid_gry\n",
    "X_test = X_test_gry\n",
    "\n"
   ]
  },
  {
   "cell_type": "markdown",
   "metadata": {},
   "source": [
    "\n",
    "\n",
    "## Step 2: Design and Test a Model Architecture\n",
    "\n"
   ]
  },
  {
   "cell_type": "markdown",
   "metadata": {},
   "source": [
    "### Pre-process the Data Set (normalization, grayscale, etc.)"
   ]
  },
  {
   "cell_type": "code",
   "execution_count": 11,
   "metadata": {
    "scrolled": false
   },
   "outputs": [
    {
     "name": "stdout",
     "output_type": "stream",
     "text": [
      "Sample 1 :\n",
      "Pixel mean of image at 33967 before normalization: 53.663411458333336\n",
      "Pixel mean of image at 33967 after normalization: -0.5807545979817708\n",
      "------------\n",
      "Sample 2 :\n",
      "Pixel mean of image at 13789 before normalization: 47.818359375\n",
      "Pixel mean of image at 13789 after normalization: -0.6264190673828125\n",
      "------------\n",
      "Sample 3 :\n",
      "Pixel mean of image at 16676 before normalization: 143.29459635416669\n",
      "Pixel mean of image at 16676 after normalization: 0.1194890340169271\n",
      "------------\n"
     ]
    }
   ],
   "source": [
    "### Preprocess the data here. It is required to normalize the data. Other preprocessing steps could include \n",
    "### converting to grayscale, etc.\n",
    "### Feel free to use as many code cells as needed.\n",
    "from sklearn.utils import shuffle\n",
    "\n",
    "X_train, y_train = shuffle(X_train, y_train)\n",
    "X_train_n= np.divide(np.subtract(X_train,128),128)\n",
    "\n",
    "for x in range(3):\n",
    "    index = random.randint(0, len(X_train))\n",
    "    mean= np.mean(X_train[index])\n",
    "    mean_normalized= np.mean(X_train_n[index])\n",
    "    print('Sample {} :'.format(x+1))\n",
    "    print('Pixel mean of image at {} before normalization: {}'.format(index,mean))\n",
    "    print('Pixel mean of image at {} after normalization: {}'.format(index,mean_normalized))\n",
    "    print('------------')\n",
    "\n"
   ]
  },
  {
   "cell_type": "code",
   "execution_count": 12,
   "metadata": {
    "scrolled": false
   },
   "outputs": [
    {
     "name": "stdout",
     "output_type": "stream",
     "text": [
      "Original shape: (34799, 32, 32, 1)\n",
      "Normalized shape: (34799, 32, 32, 1)\n"
     ]
    },
    {
     "data": {
      "text/plain": [
       "<matplotlib.image.AxesImage at 0x18527d11b38>"
      ]
     },
     "execution_count": 12,
     "metadata": {},
     "output_type": "execute_result"
    },
    {
     "data": {
      "image/png": "[encoded data removed]",
      "text/plain": [
       "<Figure size 720x216 with 2 Axes>"
      ]
     },
     "metadata": {},
     "output_type": "display_data"
    }
   ],
   "source": [
    "print(\"Original shape:\", X_train.shape)\n",
    "print(\"Normalized shape:\", X_train_n.shape)\n",
    "fig, axs = plt.subplots(1,2, figsize=(10, 3))\n",
    "axs = axs.ravel()\n",
    "\n",
    "axs[0].axis('off')\n",
    "axs[0].set_title('normalized')\n",
    "axs[0].imshow(X_train_n[0].squeeze())\n",
    "\n",
    "axs[1].axis('off')\n",
    "axs[1].set_title('original')\n",
    "axs[1].imshow(X_train[0].squeeze())\n"
   ]
  },
  {
   "cell_type": "code",
   "execution_count": 13,
   "metadata": {
    "scrolled": true
   },
   "outputs": [
    {
     "name": "stdout",
     "output_type": "stream",
     "text": [
      "shape in/out: (32, 32, 1) (32, 32, 1)\n"
     ]
    },
    {
     "data": {
      "image/png": "[encoded data removed]",
      "text/plain": [
       "<Figure size 720x216 with 2 Axes>"
      ]
     },
     "metadata": {},
     "output_type": "display_data"
    }
   ],
   "source": [
    "import cv2\n",
    "def random_brightness(img):\n",
    "    shifted = img + 1.0   # shift to (0,2) range\n",
    "    img_max_value = max(shifted.flatten())\n",
    "    max_coef = 2.0/img_max_value\n",
    "    min_coef = max_coef - 0.1\n",
    "    coef = np.random.uniform(min_coef, max_coef)\n",
    "    dst = shifted * coef - 1.0\n",
    "    return dst\n",
    "test_img = X_train_n[22222]\n",
    "test_dst = random_brightness(test_img)\n",
    "\n",
    "fig, axs = plt.subplots(1,2, figsize=(10, 3))\n",
    "\n",
    "axs[0].axis('off')\n",
    "axs[0].imshow(test_img.squeeze(), cmap='gray')\n",
    "axs[0].set_title('original')\n",
    "\n",
    "axs[1].axis('off')\n",
    "axs[1].imshow(test_dst.squeeze(), cmap='gray')\n",
    "axs[1].set_title('brightness adjusted')\n",
    "\n",
    "print('shape in/out:', test_img.shape, test_dst.shape)"
   ]
  },
  {
   "cell_type": "code",
   "execution_count": 14,
   "metadata": {
    "scrolled": false
   },
   "outputs": [
    {
     "name": "stdout",
     "output_type": "stream",
     "text": [
      "shape in/out: (32, 32, 1) (32, 32, 1)\n"
     ]
    },
    {
     "data": {
      "image/png": "[encoded data removed]",
      "text/plain": [
       "<Figure size 720x216 with 2 Axes>"
      ]
     },
     "metadata": {},
     "output_type": "display_data"
    }
   ],
   "source": [
    "import cv2\n",
    "\n",
    "def random_translate(img):\n",
    "    rows,cols,_ = img.shape\n",
    "    \n",
    "    # allow translation up to px pixels in x and y directions\n",
    "    px = 2\n",
    "    dx,dy = np.random.randint(-px,px,2)\n",
    "\n",
    "    M = np.float32([[1,0,dx],[0,1,dy]])\n",
    "    dst = cv2.warpAffine(img,M,(cols,rows))\n",
    "    \n",
    "    dst = dst[:,:,np.newaxis]\n",
    "    \n",
    "    return dst\n",
    "\n",
    "test_img = X_train_n[22222]\n",
    "\n",
    "test_dst = random_translate(test_img)\n",
    "\n",
    "fig, axs = plt.subplots(1,2, figsize=(10, 3))\n",
    "\n",
    "axs[0].axis('off')\n",
    "axs[0].imshow(test_img.squeeze(), cmap='gray')\n",
    "axs[0].set_title('original')\n",
    "\n",
    "axs[1].axis('off')\n",
    "axs[1].imshow(test_dst.squeeze(), cmap='gray')\n",
    "axs[1].set_title('translated')\n",
    "\n",
    "print('shape in/out:', test_img.shape, test_dst.shape)"
   ]
  },
  {
   "cell_type": "code",
   "execution_count": 15,
   "metadata": {
    "scrolled": false
   },
   "outputs": [
    {
     "name": "stdout",
     "output_type": "stream",
     "text": [
      "shape in/out: (32, 32, 1) (32, 32, 1)\n"
     ]
    },
    {
     "data": {
      "image/png": "[encoded data removed]",
      "text/plain": [
       "<Figure size 720x216 with 2 Axes>"
      ]
     },
     "metadata": {},
     "output_type": "display_data"
    }
   ],
   "source": [
    "def random_scaling(img):   \n",
    "    rows,cols,_ = img.shape\n",
    "\n",
    "    # transform limits\n",
    "    px = np.random.randint(-2,2)\n",
    "\n",
    "    # ending locations\n",
    "    pts1 = np.float32([[px,px],[rows-px,px],[px,cols-px],[rows-px,cols-px]])\n",
    "\n",
    "    # starting locations (4 corners)\n",
    "    pts2 = np.float32([[0,0],[rows,0],[0,cols],[rows,cols]])\n",
    "\n",
    "    M = cv2.getPerspectiveTransform(pts1,pts2)\n",
    "\n",
    "    dst = cv2.warpPerspective(img,M,(rows,cols))\n",
    "    \n",
    "    dst = dst[:,:,np.newaxis]\n",
    "    \n",
    "    return dst\n",
    "\n",
    "test_dst = random_scaling(test_img)\n",
    "    \n",
    "fig, axs = plt.subplots(1,2, figsize=(10, 3))\n",
    "\n",
    "axs[0].axis('off')\n",
    "axs[0].imshow(test_img.squeeze(), cmap='gray')\n",
    "axs[0].set_title('original')\n",
    "\n",
    "axs[1].axis('off')\n",
    "axs[1].imshow(test_dst.squeeze(), cmap='gray')\n",
    "axs[1].set_title('scaled')\n",
    "\n",
    "print('shape in/out:', test_img.shape, test_dst.shape)"
   ]
  },
  {
   "cell_type": "code",
   "execution_count": 16,
   "metadata": {
    "scrolled": false
   },
   "outputs": [
    {
     "name": "stdout",
     "output_type": "stream",
     "text": [
      "0 : |----|----|----|----|----|----|----|----|----|----|----|----|-time_elaspsed : 87.97853589057922\n",
      "\n",
      "1 : time_elaspsed : 0.0\n",
      "\n",
      "2 : time_elaspsed : 0.0\n",
      "\n",
      "3 : time_elaspsed : 0.0\n",
      "\n",
      "4 : time_elaspsed : 0.0\n",
      "\n",
      "5 : time_elaspsed : 0.0\n",
      "\n",
      "6 : |----|----|----|----|----|----|----|----|---time_elaspsed : 62.94756627082825\n",
      "\n",
      "7 : time_elaspsed : 0.0\n",
      "\n",
      "8 : time_elaspsed : 0.0\n",
      "\n",
      "9 : time_elaspsed : 0.0\n",
      "\n",
      "10 : time_elaspsed : 0.0\n",
      "\n",
      "11 : time_elaspsed : 0.0\n",
      "\n",
      "12 : time_elaspsed : 0.0\n",
      "\n",
      "13 : time_elaspsed : 0.0\n",
      "\n",
      "14 : |----|----|time_elaspsed : 15.502708196640015\n",
      "\n",
      "15 : |----|----|----|----|----|time_elaspsed : 37.3016881942749\n",
      "\n",
      "16 : |----|----|----|----|----|----|----|----|---time_elaspsed : 62.74066495895386\n",
      "\n",
      "17 : time_elaspsed : 0.0\n",
      "\n",
      "18 : time_elaspsed : 0.0\n",
      "\n",
      "19 : |----|----|----|----|----|----|----|----|----|----|----|----|-time_elaspsed : 90.61969995498657\n",
      "\n",
      "20 : |----|----|----|----|----|----|----|----|----|----time_elaspsed : 73.73592567443848\n",
      "\n",
      "21 : |----|----|----|----|----|----|----|----|----|----|--time_elaspsed : 80.16664791107178\n",
      "\n",
      "22 : |----|----|----|----|----|----|----|----|----|-time_elaspsed : 75.01280546188354\n",
      "\n",
      "23 : |----|----|----|----|----|----|----time_elaspsed : 55.94528102874756\n",
      "\n",
      "24 : |----|----|----|----|----|----|----|----|----|----|----|time_elaspsed : 91.25735211372375\n",
      "\n",
      "25 : time_elaspsed : 0.0\n",
      "\n",
      "26 : |----|----|----|----|----|time_elaspsed : 42.24788784980774\n",
      "\n",
      "27 : |----|----|----|----|----|----|----|----|----|----|----|---time_elaspsed : 95.04862880706787\n",
      "\n",
      "28 : |----|----|----|----|----|----|-time_elaspsed : 53.30286264419556\n",
      "\n",
      "29 : |----|----|----|----|----|----|----|----|----|----|----|time_elaspsed : 88.96248650550842\n",
      "\n",
      "30 : |----|----|----|----|----|----|----|----|time_elaspsed : 66.3284375667572\n",
      "\n",
      "31 : |----|----|time_elaspsed : 17.858490467071533\n",
      "\n",
      "32 : |----|----|----|----|----|----|----|----|----|----|----|---time_elaspsed : 97.74378895759583\n",
      "\n",
      "33 : |----|----|----|----|time_elaspsed : 34.94146680831909\n",
      "\n",
      "34 : |----|----|----|----|----|----|----|----|---time_elaspsed : 75.28116106987\n",
      "\n",
      "35 : time_elaspsed : 0.0\n",
      "\n",
      "36 : |----|----|----|----|----|----|----|----|----|-time_elaspsed : 79.07909941673279\n",
      "\n",
      "37 : |----|----|----|----|----|----|----|----|----|----|----|----|-time_elaspsed : 109.21598076820374\n",
      "\n",
      "38 : time_elaspsed : 0.0009765625\n",
      "\n",
      "39 : |----|----|----|----|----|----|----|----|----|----|--time_elaspsed : 94.86442565917969\n",
      "\n",
      "40 : |----|----|----|----|----|----|----|----|----|----time_elaspsed : 91.0548415184021\n",
      "\n",
      "41 : |----|----|----|----|----|----|----|----|----|----|----|---time_elaspsed : 108.41838908195496\n",
      "\n",
      "42 : |----|----|----|----|----|----|----|----|----|----|----|---time_elaspsed : 108.35595750808716\n",
      "\n",
      "X, y shapes: (46480, 32, 32, 1) (46480,)\n"
     ]
    }
   ],
   "source": [
    "# Added images for classes with less than 800 representation in the dataset\n",
    "\n",
    "input_indices = []\n",
    "output_indices = []\n",
    "import time\n",
    "for class_n in range(n_classes):\n",
    "    start = time.time()\n",
    "    print(class_n, ': ',end='')\n",
    "    class_indices = np.where(y_train == class_n)\n",
    "    n_samples = len(class_indices[0])\n",
    "    if n_samples < 800:\n",
    "        for i in range(800 - n_samples):\n",
    "            input_indices.append(class_indices[0][i%n_samples])\n",
    "            output_indices.append(X_train_n.shape[0])\n",
    "            new_img = X_train_n[class_indices[0][i % n_samples]]\n",
    "            new_img = random_translate(random_scaling(random_brightness(new_img)))\n",
    "            #new_img = random_translate(random_scaling(random_warp(random_brightness(new_img))))\n",
    "            X_train_n = np.concatenate((X_train_n, [new_img]), axis=0)\n",
    "            y_train = np.concatenate((y_train, [class_n]), axis=0)\n",
    "            if i % 50 == 0:\n",
    "                print('|', end='')\n",
    "            elif i % 10 == 0:\n",
    "                print('-',end='')\n",
    "            \n",
    "    end = time.time() \n",
    "    print('time_elaspsed :',end - start)            \n",
    "    print('')\n",
    "   \n",
    "            \n",
    "print('X, y shapes:', X_train_n.shape, y_train.shape)"
   ]
  },
  {
   "cell_type": "code",
   "execution_count": 17,
   "metadata": {
    "scrolled": false
   },
   "outputs": [
    {
     "name": "stdout",
     "output_type": "stream",
     "text": [
      "Normalized shape: (46480, 32, 32, 1)\n"
     ]
    }
   ],
   "source": [
    "X_train=X_train_n\n",
    "print(\"Normalized shape:\", X_train.shape)"
   ]
  },
  {
   "cell_type": "code",
   "execution_count": 18,
   "metadata": {
    "scrolled": false
   },
   "outputs": [
    {
     "data": {
      "image/png": "[encoded data removed]",
      "text/plain": [
       "<Figure size 432x288 with 1 Axes>"
      ]
     },
     "metadata": {},
     "output_type": "display_data"
    }
   ],
   "source": [
    "import random\n",
    "import numpy as np\n",
    "import matplotlib.pyplot as plt\n",
    "%matplotlib inline\n",
    "\n",
    "import numpy as np\n",
    "import matplotlib.pyplot as plt\n",
    "\n",
    "np.random.seed(0)\n",
    "\n",
    "n_bins = n_classes\n",
    "\n",
    "hist, bin_edges=np.histogram(y_train,bins=43)\n",
    "\n",
    "plt.bar(bin_edges[:-1], hist, width = .8)\n",
    "plt.xlim(min(bin_edges), max(bin_edges))\n",
    "plt.title(\"# of Images per class\")\n",
    "plt.show() "
   ]
  },
  {
   "cell_type": "code",
   "execution_count": 19,
   "metadata": {
    "scrolled": false
   },
   "outputs": [],
   "source": [
    "import tensorflow as tf\n",
    "\n",
    "EPOCHS = 100\n",
    "BATCH_SIZE = 128"
   ]
  },
  {
   "cell_type": "markdown",
   "metadata": {},
   "source": [
    "### Model Architecture"
   ]
  },
  {
   "cell_type": "code",
   "execution_count": 20,
   "metadata": {
    "scrolled": false
   },
   "outputs": [],
   "source": [
    "### LENET ARCHITECTURE WITH DROPOUT\n",
    "\n",
    "\n",
    "from tensorflow.contrib.layers import flatten\n",
    "\n",
    "def LeNet(x):    \n",
    "    # Arguments used for tf.truncated_normal, randomly defines variables for the weights and biases for each layer\n",
    "    mu = 0\n",
    "    sigma = 0.1\n",
    "    \n",
    "    # SOLUTION: Layer 1: Convolutional. Input = 32x32x1. Output = 28x28x6.\n",
    "    conv1_W = tf.Variable(tf.truncated_normal(shape=(5, 5, 1, 6), mean = mu, stddev = sigma))\n",
    "    conv1_b = tf.Variable(tf.zeros(6))\n",
    "    conv1   = tf.nn.conv2d(x, conv1_W, strides=[1, 1, 1, 1], padding='VALID') + conv1_b\n",
    "\n",
    "    # SOLUTION: Activation.\n",
    "    conv1 = tf.nn.relu(conv1)\n",
    "\n",
    "    # SOLUTION: Pooling. Input = 28x28x6. Output = 14x14x6\n",
    "    conv1 = tf.nn.max_pool(conv1, ksize=[1, 2, 2, 1], strides=[1, 2, 2, 1], padding='VALID')\n",
    "\n",
    "    # SOLUTION: Layer 2: Convolutional. Output = 14x14x6.Output = 10x10x16.\n",
    "    conv2_W = tf.Variable(tf.truncated_normal(shape=(5, 5,6, 16), mean = mu, stddev = sigma))\n",
    "    conv2_b = tf.Variable(tf.zeros(16))\n",
    "    conv2   = tf.nn.conv2d(conv1, conv2_W, strides=[1, 1, 1, 1], padding='VALID') + conv2_b\n",
    "    \n",
    "    # SOLUTION: Activation.\n",
    "    conv2 = tf.nn.relu(conv2)\n",
    "\n",
    "    # SOLUTION: Pooling. Input = 10x10x24.. Output = 5x5x16.\n",
    "    conv2 = tf.nn.max_pool(conv2, ksize=[1, 2, 2, 1], strides=[1, 2, 2, 1], padding='VALID')\n",
    "\n",
    "    # SOLUTION: Flatten. Input = 5x5x16. Output = 600.\n",
    "    fc0   = flatten(conv2)\n",
    "    \n",
    "  \n",
    "    # SOLUTION: Layer 4: Fully Connected. Input = 400. Output = 300.\n",
    "    fc11_W = tf.Variable(tf.truncated_normal(shape=(400, 300), mean = mu, stddev = sigma))\n",
    "    fc11_b = tf.Variable(tf.zeros(300))\n",
    "    fc11   = tf.matmul(fc0, fc11_W) + fc11_b\n",
    "    \n",
    "    # SOLUTION: Activation.\n",
    "    fc11    = tf.nn.relu(fc11)\n",
    "    fc11= tf.nn.dropout(fc11, keep_prob)\n",
    "    \n",
    "     # SOLUTION: Layer 5: Fully Connected. Input = 300. Output = 120.\n",
    "    fc12_W = tf.Variable(tf.truncated_normal(shape=(300, 120), mean = mu, stddev = sigma))\n",
    "    fc12_b = tf.Variable(tf.zeros(120))\n",
    "    fc12   = tf.matmul(fc11, fc12_W) + fc12_b\n",
    "    \n",
    "    # SOLUTION: Activation.\n",
    "    fc12    = tf.nn.relu(fc12)\n",
    "    fc12 = tf.nn.dropout(fc12, keep_prob)\n",
    "\n",
    "    # SOLUTION: Layer 6: Fully Connected. Input = 120. Output = 84.\n",
    "    fc2_W  = tf.Variable(tf.truncated_normal(shape=(120, 84), mean = mu, stddev = sigma))\n",
    "    fc2_b  = tf.Variable(tf.zeros(84))\n",
    "    fc2    = tf.matmul(fc12, fc2_W) + fc2_b\n",
    "    \n",
    "    # SOLUTION: Activation.\n",
    "    fc2    = tf.nn.relu(fc2)\n",
    "    \n",
    "    fc2 = tf.nn.dropout(fc2, keep_prob)\n",
    "    \n",
    "    # SOLUTION: Layer 7: Fully Connected. Input = 84. Output = n_classes.\n",
    "    fc3_W  = tf.Variable(tf.truncated_normal(shape=(84, n_classes), mean = mu, stddev = sigma))\n",
    "    fc3_b  = tf.Variable(tf.zeros(n_classes))\n",
    "    \n",
    "    logits = tf.matmul(fc2, fc3_W) + fc3_b\n",
    "    \n",
    "    return logits"
   ]
  },
  {
   "cell_type": "code",
   "execution_count": 21,
   "metadata": {
    "scrolled": false
   },
   "outputs": [],
   "source": [
    "tf.reset_default_graph() \n",
    "\n",
    "x = tf.placeholder(tf.float32, (None, 32, 32, 1))\n",
    "y = tf.placeholder(tf.int32, (None))\n",
    "keep_prob = tf.placeholder(tf.float32) # probability to keep units\n",
    "one_hot_y = tf.one_hot(y, 43)\n"
   ]
  },
  {
   "cell_type": "code",
   "execution_count": 22,
   "metadata": {
    "scrolled": false
   },
   "outputs": [],
   "source": [
    "rate = 0.0009\n",
    "\n",
    "logits = LeNet(x)\n",
    "cross_entropy = tf.nn.softmax_cross_entropy_with_logits_v2(labels=one_hot_y, logits=logits)\n",
    "loss_operation = tf.reduce_mean(cross_entropy)\n",
    "optimizer = tf.train.AdamOptimizer(learning_rate = rate)\n",
    "training_operation = optimizer.minimize(loss_operation)"
   ]
  },
  {
   "cell_type": "code",
   "execution_count": 23,
   "metadata": {
    "scrolled": false
   },
   "outputs": [],
   "source": [
    "correct_prediction = tf.equal(tf.argmax(logits, 1), tf.argmax(one_hot_y, 1))\n",
    "accuracy_operation = tf.reduce_mean(tf.cast(correct_prediction, tf.float32))\n",
    "saver = tf.train.Saver()\n",
    "\n",
    "def evaluate(X_data, y_data):\n",
    "    num_examples = len(X_data)\n",
    "    total_accuracy = 0\n",
    "    sess = tf.get_default_session()\n",
    "    for offset in range(0, num_examples, BATCH_SIZE):\n",
    "        batch_x, batch_y = X_data[offset:offset+BATCH_SIZE], y_data[offset:offset+BATCH_SIZE]\n",
    "        accuracy = sess.run(accuracy_operation, feed_dict={x: batch_x, y: batch_y,keep_prob: 1.0})\n",
    "        total_accuracy += (accuracy * len(batch_x))\n",
    "    return total_accuracy / num_examples"
   ]
  },
  {
   "cell_type": "markdown",
   "metadata": {},
   "source": [
    "### Train, Validate and Test the Model"
   ]
  },
  {
   "cell_type": "code",
   "execution_count": 24,
   "metadata": {
    "scrolled": false
   },
   "outputs": [
    {
     "name": "stdout",
     "output_type": "stream",
     "text": [
      "Training...\n",
      "\n",
      "EPOCH 1 ...\n",
      "Validation Accuracy = 0.556\n",
      "\n",
      "EPOCH 2 ...\n",
      "Validation Accuracy = 0.714\n",
      "\n",
      "EPOCH 3 ...\n",
      "Validation Accuracy = 0.808\n",
      "\n",
      "EPOCH 4 ...\n",
      "Validation Accuracy = 0.877\n",
      "\n",
      "EPOCH 5 ...\n",
      "Validation Accuracy = 0.887\n",
      "\n",
      "EPOCH 6 ...\n",
      "Validation Accuracy = 0.915\n",
      "\n",
      "EPOCH 7 ...\n",
      "Validation Accuracy = 0.916\n",
      "\n",
      "EPOCH 8 ...\n",
      "Validation Accuracy = 0.929\n",
      "\n",
      "EPOCH 9 ...\n",
      "Validation Accuracy = 0.928\n",
      "\n",
      "EPOCH 10 ...\n",
      "Validation Accuracy = 0.936\n",
      "\n",
      "EPOCH 11 ...\n",
      "Validation Accuracy = 0.939\n",
      "\n",
      "EPOCH 12 ...\n",
      "Validation Accuracy = 0.936\n",
      "\n",
      "EPOCH 13 ...\n",
      "Validation Accuracy = 0.944\n",
      "\n",
      "EPOCH 14 ...\n",
      "Validation Accuracy = 0.947\n",
      "\n",
      "EPOCH 15 ...\n",
      "Validation Accuracy = 0.945\n",
      "\n",
      "EPOCH 16 ...\n",
      "Validation Accuracy = 0.950\n",
      "\n",
      "EPOCH 17 ...\n",
      "Validation Accuracy = 0.951\n",
      "\n",
      "EPOCH 18 ...\n",
      "Validation Accuracy = 0.952\n",
      "\n",
      "EPOCH 19 ...\n",
      "Validation Accuracy = 0.950\n",
      "\n",
      "EPOCH 20 ...\n",
      "Validation Accuracy = 0.961\n",
      "\n",
      "EPOCH 21 ...\n",
      "Validation Accuracy = 0.953\n",
      "\n",
      "EPOCH 22 ...\n",
      "Validation Accuracy = 0.955\n",
      "\n",
      "EPOCH 23 ...\n",
      "Validation Accuracy = 0.953\n",
      "\n",
      "EPOCH 24 ...\n",
      "Validation Accuracy = 0.954\n",
      "\n",
      "EPOCH 25 ...\n",
      "Validation Accuracy = 0.958\n",
      "\n",
      "EPOCH 26 ...\n",
      "Validation Accuracy = 0.947\n",
      "\n",
      "EPOCH 27 ...\n",
      "Validation Accuracy = 0.961\n",
      "\n",
      "EPOCH 28 ...\n",
      "Validation Accuracy = 0.957\n",
      "\n",
      "EPOCH 29 ...\n",
      "Validation Accuracy = 0.957\n",
      "\n",
      "EPOCH 30 ...\n",
      "Validation Accuracy = 0.961\n",
      "\n",
      "EPOCH 31 ...\n",
      "Validation Accuracy = 0.967\n",
      "\n",
      "EPOCH 32 ...\n",
      "Validation Accuracy = 0.967\n",
      "\n",
      "EPOCH 33 ...\n",
      "Validation Accuracy = 0.964\n",
      "\n",
      "EPOCH 34 ...\n",
      "Validation Accuracy = 0.961\n",
      "\n",
      "EPOCH 35 ...\n",
      "Validation Accuracy = 0.960\n",
      "\n",
      "EPOCH 36 ...\n",
      "Validation Accuracy = 0.957\n",
      "\n",
      "EPOCH 37 ...\n",
      "Validation Accuracy = 0.962\n",
      "\n",
      "EPOCH 38 ...\n",
      "Validation Accuracy = 0.961\n",
      "\n",
      "EPOCH 39 ...\n",
      "Validation Accuracy = 0.960\n",
      "\n",
      "EPOCH 40 ...\n",
      "Validation Accuracy = 0.961\n",
      "\n",
      "EPOCH 41 ...\n",
      "Validation Accuracy = 0.963\n",
      "\n",
      "EPOCH 42 ...\n",
      "Validation Accuracy = 0.960\n",
      "\n",
      "EPOCH 43 ...\n",
      "Validation Accuracy = 0.968\n",
      "\n",
      "EPOCH 44 ...\n",
      "Validation Accuracy = 0.963\n",
      "\n",
      "EPOCH 45 ...\n",
      "Validation Accuracy = 0.966\n",
      "\n",
      "EPOCH 46 ...\n",
      "Validation Accuracy = 0.964\n",
      "\n",
      "EPOCH 47 ...\n",
      "Validation Accuracy = 0.969\n",
      "\n",
      "EPOCH 48 ...\n",
      "Validation Accuracy = 0.968\n",
      "\n",
      "EPOCH 49 ...\n",
      "Validation Accuracy = 0.965\n",
      "\n",
      "EPOCH 50 ...\n",
      "Validation Accuracy = 0.968\n",
      "\n",
      "EPOCH 51 ...\n",
      "Validation Accuracy = 0.968\n",
      "\n",
      "EPOCH 52 ...\n",
      "Validation Accuracy = 0.961\n",
      "\n",
      "EPOCH 53 ...\n",
      "Validation Accuracy = 0.971\n",
      "\n",
      "EPOCH 54 ...\n",
      "Validation Accuracy = 0.969\n",
      "\n",
      "EPOCH 55 ...\n",
      "Validation Accuracy = 0.962\n",
      "\n",
      "EPOCH 56 ...\n",
      "Validation Accuracy = 0.968\n",
      "\n",
      "EPOCH 57 ...\n",
      "Validation Accuracy = 0.968\n",
      "\n",
      "EPOCH 58 ...\n",
      "Validation Accuracy = 0.962\n",
      "\n",
      "EPOCH 59 ...\n",
      "Validation Accuracy = 0.964\n",
      "\n",
      "EPOCH 60 ...\n",
      "Validation Accuracy = 0.968\n",
      "\n",
      "EPOCH 61 ...\n",
      "Validation Accuracy = 0.961\n",
      "\n",
      "EPOCH 62 ...\n",
      "Validation Accuracy = 0.963\n",
      "\n",
      "EPOCH 63 ...\n",
      "Validation Accuracy = 0.964\n",
      "\n",
      "EPOCH 64 ...\n",
      "Validation Accuracy = 0.967\n",
      "\n",
      "EPOCH 65 ...\n",
      "Validation Accuracy = 0.966\n",
      "\n",
      "EPOCH 66 ...\n",
      "Validation Accuracy = 0.973\n",
      "\n",
      "EPOCH 67 ...\n",
      "Validation Accuracy = 0.966\n",
      "\n",
      "EPOCH 68 ...\n",
      "Validation Accuracy = 0.971\n",
      "\n",
      "EPOCH 69 ...\n",
      "Validation Accuracy = 0.971\n",
      "\n",
      "EPOCH 70 ...\n",
      "Validation Accuracy = 0.968\n",
      "\n",
      "EPOCH 71 ...\n",
      "Validation Accuracy = 0.964\n",
      "\n",
      "EPOCH 72 ...\n",
      "Validation Accuracy = 0.963\n",
      "\n",
      "EPOCH 73 ...\n",
      "Validation Accuracy = 0.968\n",
      "\n",
      "EPOCH 74 ...\n",
      "Validation Accuracy = 0.972\n",
      "\n",
      "EPOCH 75 ...\n",
      "Validation Accuracy = 0.970\n",
      "\n",
      "EPOCH 76 ...\n",
      "Validation Accuracy = 0.968\n",
      "\n",
      "EPOCH 77 ...\n",
      "Validation Accuracy = 0.964\n",
      "\n",
      "EPOCH 78 ...\n",
      "Validation Accuracy = 0.964\n",
      "\n",
      "EPOCH 79 ...\n",
      "Validation Accuracy = 0.969\n",
      "\n",
      "EPOCH 80 ...\n",
      "Validation Accuracy = 0.977\n",
      "\n",
      "EPOCH 81 ...\n",
      "Validation Accuracy = 0.972\n",
      "\n",
      "EPOCH 82 ...\n",
      "Validation Accuracy = 0.969\n",
      "\n",
      "EPOCH 83 ...\n",
      "Validation Accuracy = 0.974\n",
      "\n",
      "EPOCH 84 ...\n",
      "Validation Accuracy = 0.970\n",
      "\n",
      "EPOCH 85 ...\n",
      "Validation Accuracy = 0.960\n",
      "\n",
      "EPOCH 86 ...\n",
      "Validation Accuracy = 0.968\n",
      "\n",
      "EPOCH 87 ...\n",
      "Validation Accuracy = 0.968\n",
      "\n",
      "EPOCH 88 ...\n",
      "Validation Accuracy = 0.973\n",
      "\n",
      "EPOCH 89 ...\n",
      "Validation Accuracy = 0.970\n",
      "\n",
      "EPOCH 90 ...\n",
      "Validation Accuracy = 0.971\n",
      "\n",
      "EPOCH 91 ...\n",
      "Validation Accuracy = 0.973\n",
      "\n",
      "EPOCH 92 ...\n",
      "Validation Accuracy = 0.973\n",
      "\n",
      "EPOCH 93 ...\n",
      "Validation Accuracy = 0.974\n",
      "\n",
      "EPOCH 94 ...\n",
      "Validation Accuracy = 0.969\n",
      "\n",
      "EPOCH 95 ...\n",
      "Validation Accuracy = 0.969\n",
      "\n",
      "EPOCH 96 ...\n",
      "Validation Accuracy = 0.974\n",
      "\n",
      "EPOCH 97 ...\n",
      "Validation Accuracy = 0.968\n",
      "\n",
      "EPOCH 98 ...\n",
      "Validation Accuracy = 0.967\n",
      "\n",
      "EPOCH 99 ...\n",
      "Validation Accuracy = 0.971\n",
      "\n",
      "EPOCH 100 ...\n",
      "Validation Accuracy = 0.974\n",
      "\n",
      "Model saved\n"
     ]
    }
   ],
   "source": [
    "with tf.Session() as sess:\n",
    "    sess.run(tf.global_variables_initializer())\n",
    "    num_examples = len(X_train)\n",
    "    \n",
    "    print(\"Training...\")\n",
    "    print()\n",
    "    for i in range(EPOCHS):\n",
    "        X_train, y_train = shuffle(X_train, y_train)\n",
    "        for offset in range(0, num_examples, BATCH_SIZE):\n",
    "            end = offset + BATCH_SIZE\n",
    "            batch_x, batch_y = X_train[offset:end], y_train[offset:end]\n",
    "            sess.run(training_operation, feed_dict={x: batch_x, y: batch_y,keep_prob: 0.5})\n",
    "            \n",
    "        validation_accuracy = evaluate(X_valid, y_valid)\n",
    "        print(\"EPOCH {} ...\".format(i+1))\n",
    "        print(\"Validation Accuracy = {:.3f}\".format(validation_accuracy))\n",
    "        print()\n",
    "        \n",
    "    saver.save(sess, './lenet')\n",
    "    print(\"Model saved\")"
   ]
  },
  {
   "cell_type": "markdown",
   "metadata": {},
   "source": [
    "### Calculating accuracies"
   ]
  },
  {
   "cell_type": "code",
   "execution_count": 37,
   "metadata": {},
   "outputs": [
    {
     "name": "stdout",
     "output_type": "stream",
     "text": [
      "INFO:tensorflow:Restoring parameters from .\\lenet\n",
      "Train Accuracy = 1.000\n",
      "Valid Accuracy = 0.974\n",
      "Test Accuracy = 0.949\n"
     ]
    }
   ],
   "source": [
    "with tf.Session() as sess:\n",
    "    saver.restore(sess, tf.train.latest_checkpoint('.'))\n",
    "\n",
    "    train_accuracy = evaluate(X_train, y_train)\n",
    "    print(\"Train Accuracy = {:.3f}\".format(train_accuracy))\n",
    "    \n",
    "    valid_accuracy = evaluate(X_valid, y_valid)\n",
    "    print(\"Valid Accuracy = {:.3f}\".format(valid_accuracy))    \n",
    "    \n",
    "    test_accuracy = evaluate(X_test, y_test)\n",
    "    print(\"Test Accuracy = {:.3f}\".format(test_accuracy))"
   ]
  },
  {
   "cell_type": "markdown",
   "metadata": {},
   "source": [
    "---\n",
    "\n",
    "## Step 3: Test a Model on New Images\n",
    "\n",
    "To give yourself more insight into how your model is working, download at least five pictures of German traffic signs from the web and use your model to predict the traffic sign type.\n",
    "\n",
    "You may find `signnames.csv` useful as it contains mappings from the class id (integer) to the actual sign name."
   ]
  },
  {
   "cell_type": "markdown",
   "metadata": {},
   "source": [
    "### Load and Output the Images"
   ]
  },
  {
   "cell_type": "code",
   "execution_count": 78,
   "metadata": {
    "scrolled": false
   },
   "outputs": [
    {
     "name": "stdout",
     "output_type": "stream",
     "text": [
      "(8, 32, 32, 1)\n"
     ]
    },
    {
     "data": {
      "image/png": "[encoded data removed]",
      "text/plain": [
       "<Figure size 288x144 with 8 Axes>"
      ]
     },
     "metadata": {},
     "output_type": "display_data"
    }
   ],
   "source": [
    "### Load the images and plot them here.\n",
    "### Feel free to use as many code cells as needed.\n",
    "#reading in an image\n",
    "import glob\n",
    "import matplotlib.image as mpimg\n",
    "\n",
    "\n",
    "fig, axs = plt.subplots(2,4, figsize=(4, 2))\n",
    "fig.subplots_adjust(hspace = .2, wspace=.001)\n",
    "axs = axs.ravel()\n",
    "\n",
    "my_images = []\n",
    "\n",
    "for i, img in enumerate(glob.glob('testing\\*.jpg')):\n",
    "    image = cv2.imread(img)\n",
    "    image=cv2.resize(image, (32,32))\n",
    "    axs[i].axis('off')\n",
    "    axs[i].imshow(cv2.cvtColor(image, cv2.COLOR_BGR2RGB))\n",
    "    my_images.append(image)\n",
    "\n",
    "my_images = np.asarray(my_images)\n",
    "\n",
    "my_images_gry = np.sum(my_images/3, axis=3, keepdims=True)\n",
    "\n",
    "my_images_normalized = (my_images_gry - 128)/128 \n",
    "\n",
    "print(my_images_normalized.shape)"
   ]
  },
  {
   "cell_type": "markdown",
   "metadata": {},
   "source": [
    "### Predict the Sign Type for Each Image"
   ]
  },
  {
   "cell_type": "code",
   "execution_count": 69,
   "metadata": {
    "scrolled": false
   },
   "outputs": [
    {
     "name": "stdout",
     "output_type": "stream",
     "text": [
      "INFO:tensorflow:Restoring parameters from ./lenet\n",
      "Test Set Accuracy = 1.000\n"
     ]
    }
   ],
   "source": [
    "### Run the predictions here and use the model to output the prediction for each image.\n",
    "### Make sure to pre-process the images with the same pre-processing pipeline used earlier.\n",
    "### Feel free to use as many code cells as needed.\n",
    "### Run the predictions here.\n",
    "### Feel free to use as many code cells as needed.\n",
    "\n",
    "my_labels = [22, 9, 27, 24, 23, 35, 33, 25]\n",
    "\n",
    "\n",
    "with tf.Session() as sess:\n",
    "    sess.run(tf.global_variables_initializer())\n",
    "    saver3 = tf.train.import_meta_graph('./lenet.meta')\n",
    "    saver3.restore(sess, \"./lenet\")\n",
    "    my_accuracy = evaluate(my_images_normalized, my_labels)\n",
    "    print(\"Test Set Accuracy = {:.3f}\".format(my_accuracy))"
   ]
  },
  {
   "cell_type": "markdown",
   "metadata": {},
   "source": [
    "### Analyze Performance"
   ]
  },
  {
   "cell_type": "code",
   "execution_count": 79,
   "metadata": {
    "scrolled": true
   },
   "outputs": [
    {
     "name": "stdout",
     "output_type": "stream",
     "text": [
      "INFO:tensorflow:Restoring parameters from ./lenet\n",
      "[[0.00000000e+00 0.00000000e+00 0.00000000e+00 0.00000000e+00\n",
      "  0.00000000e+00 0.00000000e+00 0.00000000e+00 0.00000000e+00\n",
      "  0.00000000e+00 0.00000000e+00 0.00000000e+00 0.00000000e+00\n",
      "  0.00000000e+00 3.45556454e-31 0.00000000e+00 1.50381581e-28\n",
      "  0.00000000e+00 0.00000000e+00 0.00000000e+00 0.00000000e+00\n",
      "  0.00000000e+00 0.00000000e+00 1.00000000e+00 0.00000000e+00\n",
      "  0.00000000e+00 0.00000000e+00 4.33371462e-26 0.00000000e+00\n",
      "  0.00000000e+00 8.67911151e-30 0.00000000e+00 0.00000000e+00\n",
      "  0.00000000e+00 0.00000000e+00 0.00000000e+00 0.00000000e+00\n",
      "  0.00000000e+00 0.00000000e+00 0.00000000e+00 0.00000000e+00\n",
      "  0.00000000e+00 0.00000000e+00 0.00000000e+00]\n",
      " [0.00000000e+00 0.00000000e+00 0.00000000e+00 1.34395556e-28\n",
      "  0.00000000e+00 0.00000000e+00 0.00000000e+00 0.00000000e+00\n",
      "  0.00000000e+00 1.00000000e+00 2.87898587e-22 0.00000000e+00\n",
      "  0.00000000e+00 0.00000000e+00 0.00000000e+00 2.52479912e-25\n",
      "  3.54805180e-24 5.50617717e-32 0.00000000e+00 2.08604391e-19\n",
      "  0.00000000e+00 0.00000000e+00 0.00000000e+00 4.14034819e-38\n",
      "  0.00000000e+00 0.00000000e+00 0.00000000e+00 0.00000000e+00\n",
      "  0.00000000e+00 0.00000000e+00 0.00000000e+00 0.00000000e+00\n",
      "  0.00000000e+00 0.00000000e+00 0.00000000e+00 0.00000000e+00\n",
      "  0.00000000e+00 0.00000000e+00 0.00000000e+00 0.00000000e+00\n",
      "  0.00000000e+00 0.00000000e+00 0.00000000e+00]\n",
      " [2.74967913e-11 7.25135880e-13 1.07154876e-19 1.38248286e-19\n",
      "  1.73898655e-08 7.51285878e-09 5.94971294e-10 2.12070724e-14\n",
      "  6.49683418e-15 9.45241000e-29 4.90010381e-15 2.77115415e-08\n",
      "  2.03357297e-20 2.16809137e-27 2.19606940e-18 9.18682739e-28\n",
      "  3.92449389e-22 1.68081924e-19 3.16659510e-01 4.16107344e-16\n",
      "  9.78078926e-04 1.65514981e-14 1.79282338e-19 2.30829628e-15\n",
      "  5.77265071e-03 1.82447257e-09 4.64924506e-06 6.76584840e-01\n",
      "  1.26446835e-07 8.59669289e-17 4.72513941e-14 1.70067814e-11\n",
      "  4.24577187e-21 1.94357279e-15 3.70122101e-22 2.23667335e-21\n",
      "  5.81401420e-11 8.89929955e-18 1.41834851e-11 6.56689438e-13\n",
      "  4.84185912e-12 2.86716620e-18 6.29125717e-15]\n",
      " [4.42135711e-22 3.05348543e-22 3.65603807e-28 0.00000000e+00\n",
      "  1.53875630e-27 1.62183027e-29 9.81722206e-29 1.02074963e-32\n",
      "  7.27748905e-32 0.00000000e+00 1.38192703e-37 1.72389078e-12\n",
      "  1.04074029e-30 1.64896419e-33 1.67934803e-38 0.00000000e+00\n",
      "  0.00000000e+00 0.00000000e+00 1.87429730e-17 1.72308524e-16\n",
      "  3.39380508e-20 3.94270074e-08 1.29538295e-26 8.73425631e-20\n",
      "  1.00000000e+00 8.74617687e-16 1.33472130e-16 3.16096149e-09\n",
      "  1.08626427e-15 2.37682273e-15 5.61530466e-12 4.27796513e-12\n",
      "  0.00000000e+00 2.21830620e-25 1.82848849e-36 0.00000000e+00\n",
      "  6.89366784e-37 1.79150831e-29 8.16614089e-34 3.03351078e-18\n",
      "  4.77747038e-23 0.00000000e+00 0.00000000e+00]\n",
      " [2.02609231e-11 3.57639439e-16 2.13007414e-13 4.42626130e-15\n",
      "  1.54995815e-14 3.10977643e-15 5.91380521e-22 1.57919573e-15\n",
      "  8.73971555e-12 1.06625764e-10 4.96313390e-09 3.71048122e-06\n",
      "  1.87640126e-14 2.04073319e-15 5.54653358e-20 7.11168532e-19\n",
      "  1.22541311e-12 3.27247712e-12 5.28680962e-12 5.09258918e-02\n",
      "  3.05321701e-05 1.23614096e-03 8.30608290e-11 9.47130322e-01\n",
      "  2.80099300e-07 1.92347360e-09 3.86928878e-10 8.65680949e-09\n",
      "  3.14588505e-07 1.96021617e-07 1.60610902e-08 6.72560360e-04\n",
      "  2.62876373e-22 1.70895860e-14 6.99666367e-15 5.55451410e-13\n",
      "  3.39664786e-14 2.94126355e-11 7.74111627e-15 2.61056175e-18\n",
      "  4.82325326e-08 1.21613475e-15 1.48820393e-16]\n",
      " [0.00000000e+00 0.00000000e+00 0.00000000e+00 0.00000000e+00\n",
      "  0.00000000e+00 0.00000000e+00 0.00000000e+00 0.00000000e+00\n",
      "  0.00000000e+00 0.00000000e+00 0.00000000e+00 0.00000000e+00\n",
      "  0.00000000e+00 0.00000000e+00 0.00000000e+00 0.00000000e+00\n",
      "  0.00000000e+00 0.00000000e+00 0.00000000e+00 0.00000000e+00\n",
      "  0.00000000e+00 0.00000000e+00 0.00000000e+00 0.00000000e+00\n",
      "  0.00000000e+00 0.00000000e+00 0.00000000e+00 0.00000000e+00\n",
      "  0.00000000e+00 0.00000000e+00 0.00000000e+00 0.00000000e+00\n",
      "  0.00000000e+00 0.00000000e+00 0.00000000e+00 1.00000000e+00\n",
      "  0.00000000e+00 0.00000000e+00 0.00000000e+00 0.00000000e+00\n",
      "  0.00000000e+00 0.00000000e+00 0.00000000e+00]\n",
      " [0.00000000e+00 0.00000000e+00 0.00000000e+00 1.66846085e-23\n",
      "  5.56617220e-33 2.81029457e-33 0.00000000e+00 0.00000000e+00\n",
      "  0.00000000e+00 0.00000000e+00 2.01236228e-32 0.00000000e+00\n",
      "  0.00000000e+00 0.00000000e+00 4.28828068e-32 0.00000000e+00\n",
      "  0.00000000e+00 0.00000000e+00 0.00000000e+00 0.00000000e+00\n",
      "  0.00000000e+00 0.00000000e+00 0.00000000e+00 0.00000000e+00\n",
      "  0.00000000e+00 0.00000000e+00 0.00000000e+00 0.00000000e+00\n",
      "  0.00000000e+00 0.00000000e+00 0.00000000e+00 0.00000000e+00\n",
      "  0.00000000e+00 1.00000000e+00 0.00000000e+00 3.65322282e-20\n",
      "  0.00000000e+00 5.16596596e-33 0.00000000e+00 2.88125655e-32\n",
      "  0.00000000e+00 0.00000000e+00 0.00000000e+00]\n",
      " [0.00000000e+00 0.00000000e+00 0.00000000e+00 0.00000000e+00\n",
      "  0.00000000e+00 0.00000000e+00 0.00000000e+00 0.00000000e+00\n",
      "  0.00000000e+00 0.00000000e+00 0.00000000e+00 0.00000000e+00\n",
      "  0.00000000e+00 0.00000000e+00 0.00000000e+00 0.00000000e+00\n",
      "  0.00000000e+00 0.00000000e+00 0.00000000e+00 0.00000000e+00\n",
      "  0.00000000e+00 0.00000000e+00 0.00000000e+00 0.00000000e+00\n",
      "  0.00000000e+00 1.00000000e+00 0.00000000e+00 0.00000000e+00\n",
      "  0.00000000e+00 0.00000000e+00 1.94338869e-36 0.00000000e+00\n",
      "  0.00000000e+00 0.00000000e+00 0.00000000e+00 0.00000000e+00\n",
      "  0.00000000e+00 0.00000000e+00 0.00000000e+00 0.00000000e+00\n",
      "  0.00000000e+00 0.00000000e+00 0.00000000e+00]]\n"
     ]
    },
    {
     "data": {
      "image/png": "[encoded data removed]",
      "text/plain": [
       "<Figure size 648x1368 with 16 Axes>"
      ]
     },
     "metadata": {},
     "output_type": "display_data"
    }
   ],
   "source": [
    "### Calculate the accuracy for these 5 new images. \n",
    "### For example, if the model predicted 1 out of 5 signs correctly, it's 20% accurate on these new images.\n",
    "### Visualize the softmax probabilities here.\n",
    "### Feel free to use as many code cells as needed.\n",
    "\n",
    "softmax_logits = tf.nn.softmax(logits)\n",
    "top_k = tf.nn.top_k(softmax_logits, k=3)\n",
    "\n",
    "\n",
    "with tf.Session() as sess:\n",
    "    sess.run(tf.global_variables_initializer())\n",
    "    saver = tf.train.import_meta_graph('./lenet.meta')\n",
    "    saver.restore(sess, \"./lenet\")\n",
    "    my_softmax_logits = sess.run(softmax_logits, feed_dict={x: my_images_normalized, keep_prob: 1.0})\n",
    "    my_top_k = sess.run(top_k, feed_dict={x: my_images_normalized, keep_prob: 1.0})\n",
    "    print(my_softmax_logits)\n",
    "    \n",
    "fig, axs = plt.subplots(8,2, figsize=(9, 19))\n",
    "axs = axs.ravel()\n",
    "\n",
    "for i in range(len(my_softmax_logits)*2):\n",
    "    if i%2 == 0:\n",
    "        axs[i].axis('off')\n",
    "        axs[i].imshow(cv2.cvtColor(my_images[i//2], cv2.COLOR_BGR2RGB))\n",
    "    else:\n",
    "        axs[i].bar(np.arange(n_classes), my_softmax_logits[(i-1)//2]) \n",
    "        axs[i].set_ylabel('Softmax probability')"
   ]
  },
  {
   "cell_type": "markdown",
   "metadata": {},
   "source": [
    "> **Note**: Once you have completed all of the code implementations and successfully answered each question above, you may finalize your work by exporting the iPython Notebook as an HTML document. You can do this by using the menu above and navigating to  \\n\",\n",
    "    \"**File -> Download as -> HTML (.html)**. Include the finished document along with this notebook as your submission."
   ]
  }
 ],
 "metadata": {
  "anaconda-cloud": {},
  "kernelspec": {
   "display_name": "Python 3",
   "language": "python",
   "name": "python3"
  },
  "language_info": {
   "codemirror_mode": {
    "name": "ipython",
    "version": 3
   },
   "file_extension": ".py",
   "mimetype": "text/x-python",
   "name": "python",
   "nbconvert_exporter": "python",
   "pygments_lexer": "ipython3",
   "version": "3.6.6"
  }
 },
 "nbformat": 4,
 "nbformat_minor": 1
}
